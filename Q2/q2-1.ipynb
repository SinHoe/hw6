{
 "cells": [
  {
   "cell_type": "code",
   "execution_count": 1,
   "id": "bfef4175",
   "metadata": {},
   "outputs": [],
   "source": [
    "if __name__ == \"__main__\":\n",
    "\n",
    "    import random\n",
    "\n",
    "    dice100 = 'dice100'\n",
    "    for i in range(1,101):\n",
    "        num = random.randrange(1,7)\n",
    "        dice100 =dice100+','+str(num)\n",
    "\n",
    "    dice1000 = 'dice1000'\n",
    "    for i in range(1,1001):\n",
    "        num = random.randrange(1,7)\n",
    "        dice1000 = dice1000+','+str(num)\n",
    "\n",
    "    dice10000 = 'dice10000'\n",
    "    for i in range(1,10001):\n",
    "        num = random.randrange(1,7)\n",
    "        dice10000 = dice10000+','+str(num)\n",
    "\n",
    "    dice100000 = 'dice100000'\n",
    "    for i in range(1,100001):\n",
    "        num = random.randrange(1,7)\n",
    "        dice100000 = dice100000+','+str(num)\n",
    "\n",
    "    f = open('dice.csv','x')\n",
    "    f.write(dice100)\n",
    "    f.write('\\n')\n",
    "    f.write(dice1000)\n",
    "    f.write('\\n')\n",
    "    f.write(dice10000)\n",
    "    f.write('\\n')\n",
    "    f.write(dice100000)\n",
    "    f.close()\n",
    "\n"
   ]
  },
  {
   "cell_type": "code",
   "execution_count": null,
   "id": "b4f2408a",
   "metadata": {},
   "outputs": [],
   "source": []
  }
 ],
 "metadata": {
  "kernelspec": {
   "display_name": "Python 3 (ipykernel)",
   "language": "python",
   "name": "python3"
  },
  "language_info": {
   "codemirror_mode": {
    "name": "ipython",
    "version": 3
   },
   "file_extension": ".py",
   "mimetype": "text/x-python",
   "name": "python",
   "nbconvert_exporter": "python",
   "pygments_lexer": "ipython3",
   "version": "3.9.13"
  }
 },
 "nbformat": 4,
 "nbformat_minor": 5
}
