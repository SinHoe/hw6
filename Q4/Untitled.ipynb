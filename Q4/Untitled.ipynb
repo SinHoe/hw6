{
 "cells": [
  {
   "cell_type": "code",
   "execution_count": 2,
   "id": "99f5e5b9",
   "metadata": {},
   "outputs": [],
   "source": [
    "import csv\n",
    "import matplotlib.pyplot as plt\n",
    "\n",
    "if __name__ == \"__main__\":\n",
    "    \n",
    "    f = open('subway.csv','r',encoding = 'ansi')\n",
    "    data = csv.reader(f)\n",
    "    next(data)\n",
    "    for row in data:\n",
    "        in = int(row[10]) + row[12])\n",
    "        out = int(row[11]) + row[13])\n",
    "        "
   ]
  },
  {
   "cell_type": "code",
   "execution_count": null,
   "id": "d26fbd9e",
   "metadata": {},
   "outputs": [],
   "source": []
  }
 ],
 "metadata": {
  "kernelspec": {
   "display_name": "Python 3 (ipykernel)",
   "language": "python",
   "name": "python3"
  },
  "language_info": {
   "codemirror_mode": {
    "name": "ipython",
    "version": 3
   },
   "file_extension": ".py",
   "mimetype": "text/x-python",
   "name": "python",
   "nbconvert_exporter": "python",
   "pygments_lexer": "ipython3",
   "version": "3.9.13"
  }
 },
 "nbformat": 4,
 "nbformat_minor": 5
}
